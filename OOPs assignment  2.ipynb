{
 "cells": [
  {
   "cell_type": "markdown",
   "id": "aa12640c-e80e-48cc-b762-c080dc689cd6",
   "metadata": {},
   "source": [
    "## Ans 1."
   ]
  },
  {
   "cell_type": "code",
   "execution_count": 1,
   "id": "9fdaf883-63d5-498a-a4e4-8f53a9929b89",
   "metadata": {},
   "outputs": [
    {
     "name": "stdout",
     "output_type": "stream",
     "text": [
      "Area of rectangle: 20\n",
      "Perimeter of rectangle: 18\n",
      "Area of circle: 28.259999999999998\n",
      "Perimeter of circle: 18.84\n"
     ]
    }
   ],
   "source": [
    "\n",
    "\n",
    "''' Abstraction in object-oriented programming (OOP) is the process of hiding the implementation details of a class and only showing\n",
    "the necessary features of an object to the outside world. It focuses on what an object does rather than how it achieves its functionality.\n",
    "This helps in reducing complexity and allows for easier maintenance and understanding of code. '''\n",
    "\n",
    "# here is example\n",
    "\n",
    "from abc import ABC, abstractmethod\n",
    "\n",
    "class Shape(ABC):\n",
    "    @abstractmethod\n",
    "    def area(self):\n",
    "        pass\n",
    "\n",
    "    @abstractmethod\n",
    "    def perimeter(self):\n",
    "        pass\n",
    "\n",
    "class Rectangle(Shape):\n",
    "    def __init__(self, width, height):\n",
    "        self.width = width\n",
    "        self.height = height\n",
    "\n",
    "    def area(self):\n",
    "        return self.width * self.height\n",
    "\n",
    "    def perimeter(self):\n",
    "        return 2 * (self.width + self.height)\n",
    "\n",
    "class Circle(Shape):\n",
    "    def __init__(self, radius):\n",
    "        self.radius = radius\n",
    "\n",
    "    def area(self):\n",
    "        return 3.14 * self.radius * self.radius\n",
    "\n",
    "    def perimeter(self):\n",
    "        return 2 * 3.14 * self.radius\n",
    "\n",
    "# Create objects of different shapes\n",
    "rectangle = Rectangle(5, 4)\n",
    "circle = Circle(3)\n",
    "\n",
    "# We don't need to know how area and perimeter are calculated internally,\n",
    "# we just call the methods defined in the abstract class.\n",
    "print(\"Area of rectangle:\", rectangle.area())\n",
    "print(\"Perimeter of rectangle:\", rectangle.perimeter())\n",
    "\n",
    "print(\"Area of circle:\", circle.area())\n",
    "print(\"Perimeter of circle:\", circle.perimeter())\n"
   ]
  },
  {
   "cell_type": "markdown",
   "id": "7090cd9e-62a3-41b3-8cd3-9e6add451e85",
   "metadata": {},
   "source": [
    "### Ans 2."
   ]
  },
  {
   "cell_type": "code",
   "execution_count": 3,
   "id": "c2ffa9d4-ae66-430d-9d55-761f3d7983e3",
   "metadata": {},
   "outputs": [
    {
     "name": "stdout",
     "output_type": "stream",
     "text": [
      "Make: Toyota\n",
      "Model: Corolla\n",
      "Area of circle: 78.5\n",
      "Area of rectangle: 12\n"
     ]
    }
   ],
   "source": [
    "''' Abstraction:\n",
    "Abstraction focuses on hiding the complex implementation details and showing only the necessary features of an object to the outside world.\n",
    "It deals with the 'what' aspect of an object, i.e., what it does, rather than how it achieves its functionality.\n",
    "Abstraction is achieved through abstract classes, interfaces, and the use of access modifiers like public, private, and protected. '''\n",
    "\n",
    "'''Encapsulation:\n",
    "Encapsulation focuses on bundling the data (attributes) and methods (functions) that operate on the data into a single unit, called a class.\n",
    "It involves wrapping the data (attributes) and methods (functions) together to restrict direct access to some of the object's components, which helps in preventing accidental modification.\n",
    "Encapsulation is implemented by using access modifiers such as public, private, and protected to control the visibility of class members.'''\n",
    "\n",
    "#### example of abstraction and encapsulation\\\n",
    "\n",
    "\n",
    "# Encapsulation Example\n",
    "\n",
    "class Car:\n",
    "    def __init__(self, make, model):\n",
    "        self.__make = make  # private attribute\n",
    "        self.__model = model  # private attribute\n",
    "\n",
    "    def get_make(self):\n",
    "        return self.__make\n",
    "\n",
    "    def get_model(self):\n",
    "        return self.__model\n",
    "\n",
    "    def set_make(self, make):\n",
    "        self.__make = make\n",
    "\n",
    "    def set_model(self, model):\n",
    "        self.__model = model\n",
    "\n",
    "\n",
    "# Abstraction Example\n",
    "\n",
    "from abc import ABC, abstractmethod\n",
    "\n",
    "class Shape(ABC):\n",
    "    @abstractmethod\n",
    "    def area(self):\n",
    "        pass\n",
    "\n",
    "class Circle(Shape):\n",
    "    def __init__(self, radius):\n",
    "        self.radius = radius\n",
    "\n",
    "    def area(self):\n",
    "        return 3.14 * self.radius * self.radius\n",
    "\n",
    "class Rectangle(Shape):\n",
    "    def __init__(self, width, height):\n",
    "        self.width = width\n",
    "        self.height = height\n",
    "\n",
    "    def area(self):\n",
    "        return self.width * self.height\n",
    "\n",
    "# Usage\n",
    "car = Car(\"Toyota\", \"Corolla\")\n",
    "print(\"Make:\", car.get_make())  # Accessing through public method\n",
    "print(\"Model:\", car.get_model())  # Accessing through public method\n",
    "\n",
    "circle = Circle(5)\n",
    "print(\"Area of circle:\", circle.area())  # Using abstraction, accessing area without knowing internal implementation\n",
    "\n",
    "rectangle = Rectangle(4, 3)\n",
    "print(\"Area of rectangle:\", rectangle.area())  # Using abstraction, accessing area without knowing internal implementation\n",
    "\n"
   ]
  },
  {
   "cell_type": "markdown",
   "id": "b83bfd2a-0fcf-4672-b439-7d311c12d9be",
   "metadata": {},
   "source": [
    "### Ans 3."
   ]
  },
  {
   "cell_type": "code",
   "execution_count": 4,
   "id": "213b6cbf-f5ff-4d3d-b7a5-ade445657e36",
   "metadata": {},
   "outputs": [
    {
     "name": "stdout",
     "output_type": "stream",
     "text": [
      "Area of circle: 78.5\n",
      "Perimeter of circle: 31.400000000000002\n",
      "Area of rectangle: 12\n",
      "Perimeter of rectangle: 14\n"
     ]
    }
   ],
   "source": [
    "\n",
    "''' The abc module in Python stands for \"Abstract Base Classes.\" It provides facilities for creating abstract base classes and for\n",
    "specifying and enforcing the behavior that derived classes must implement.'''\n",
    "\n",
    "# Here's why the abc module is used:\n",
    "''' 1.Creation of Abstract Base Classes (ABCs)\n",
    "    2.Enforcing Interface Implementation\n",
    "    3.Designing APIs\n",
    "    4.Code Clarity and Maintainability\n",
    "    '''\n",
    "\n",
    "#example\n",
    "\n",
    "from abc import ABC, abstractmethod\n",
    "\n",
    "class Shape(ABC):\n",
    "    @abstractmethod\n",
    "    def area(self):\n",
    "        pass\n",
    "\n",
    "    @abstractmethod\n",
    "    def perimeter(self):\n",
    "        pass\n",
    "\n",
    "class Circle(Shape):\n",
    "    def __init__(self, radius):\n",
    "        self.radius = radius\n",
    "\n",
    "    def area(self):\n",
    "        return 3.14 * self.radius * self.radius\n",
    "\n",
    "    def perimeter(self):\n",
    "        return 2 * 3.14 * self.radius\n",
    "\n",
    "class Rectangle(Shape):\n",
    "    def __init__(self, width, height):\n",
    "        self.width = width\n",
    "        self.height = height\n",
    "\n",
    "    def area(self):\n",
    "        return self.width * self.height\n",
    "\n",
    "    def perimeter(self):\n",
    "        return 2 * (self.width + self.height)\n",
    "\n",
    "# Usage\n",
    "circle = Circle(5)\n",
    "print(\"Area of circle:\", circle.area())\n",
    "print(\"Perimeter of circle:\", circle.perimeter())\n",
    "\n",
    "rectangle = Rectangle(4, 3)\n",
    "print(\"Area of rectangle:\", rectangle.area())\n",
    "print(\"Perimeter of rectangle:\", rectangle.perimeter())\n"
   ]
  },
  {
   "cell_type": "code",
   "execution_count": null,
   "id": "40782242-667f-4ccb-90d7-daea6b1aa235",
   "metadata": {},
   "outputs": [],
   "source": []
  },
  {
   "cell_type": "markdown",
   "id": "c4846d4f-ff62-4632-bc16-f591fbe4cd99",
   "metadata": {},
   "source": [
    "### Ans 4"
   ]
  },
  {
   "cell_type": "code",
   "execution_count": 5,
   "id": "858f87fa-36d0-470f-927e-492dd07aaa0d",
   "metadata": {},
   "outputs": [
    {
     "data": {
      "text/plain": [
       "' 1.Encapsulation\\n    2.Access Modifiers\\n    3.Abstract Data Types (ADTs)\\n    4.Interface Design \\n    '"
      ]
     },
     "execution_count": 5,
     "metadata": {},
     "output_type": "execute_result"
    }
   ],
   "source": [
    "''' \n",
    "Data abstraction in programming refers to the process of hiding the implementation details of data and only showing the essential features or \n",
    "functionalities to the outside world. In object-oriented programming, data abstraction is \n",
    "typically achieved through the use of classes and access modifiers. '''\n",
    "\n",
    "# Here are some ways to achieve data abstraction:\n",
    "\n",
    "''' 1.Encapsulation\n",
    "    2.Access Modifiers\n",
    "    3.Abstract Data Types (ADTs)\n",
    "    4.Interface Design \n",
    "    '''\n",
    "\n"
   ]
  },
  {
   "cell_type": "code",
   "execution_count": null,
   "id": "0e64f6db-cf03-4252-930b-3b86be5bc430",
   "metadata": {},
   "outputs": [],
   "source": []
  },
  {
   "cell_type": "markdown",
   "id": "f219c99e-e26c-4f10-a2ff-5daa78de80f0",
   "metadata": {},
   "source": [
    "### Ans 5."
   ]
  },
  {
   "cell_type": "code",
   "execution_count": 6,
   "id": "9851f20c-a7b1-43e6-b3d2-c7c0b5874755",
   "metadata": {},
   "outputs": [
    {
     "name": "stdout",
     "output_type": "stream",
     "text": [
      "TypeError: Can't instantiate abstract class Shape with abstract method area\n"
     ]
    }
   ],
   "source": [
    "''' \n",
    "In most programming languages, including Python, you cannot create an instance of an abstract class directly.\n",
    "Attempting to do so will typically result in an error.\n",
    "\n",
    "Abstract classes are meant to serve as templates or blueprints for other classes to inherit from. They contain one or more \n",
    "abstract methods that are meant to be overridden by subclasses. Since abstract methods are incomplete (they have no implementation), \n",
    "it doesn't make sense to create instances ofabstract classes because they lack complete functionality.'''\n",
    "\n",
    "\n",
    "# example\n",
    "\n",
    "from abc import ABC, abstractmethod\n",
    "\n",
    "class Shape(ABC):  # Define an abstract class\n",
    "    @abstractmethod\n",
    "    def area(self):\n",
    "        pass\n",
    "\n",
    "class Circle(Shape):  # Subclass of Shape\n",
    "    def __init__(self, radius):\n",
    "        self.radius = radius\n",
    "\n",
    "    def area(self):\n",
    "        return 3.14 * self.radius * self.radius\n",
    "\n",
    "# Attempt to create an instance of the abstract class Shape\n",
    "try:\n",
    "    shape = Shape()  # This will raise a TypeError\n",
    "except TypeError as e:\n",
    "    print(\"TypeError:\", e)\n"
   ]
  },
  {
   "cell_type": "code",
   "execution_count": null,
   "id": "91590d06-fd9e-4814-956f-2aafe350f041",
   "metadata": {},
   "outputs": [],
   "source": []
  }
 ],
 "metadata": {
  "kernelspec": {
   "display_name": "Python 3 (ipykernel)",
   "language": "python",
   "name": "python3"
  },
  "language_info": {
   "codemirror_mode": {
    "name": "ipython",
    "version": 3
   },
   "file_extension": ".py",
   "mimetype": "text/x-python",
   "name": "python",
   "nbconvert_exporter": "python",
   "pygments_lexer": "ipython3",
   "version": "3.10.8"
  }
 },
 "nbformat": 4,
 "nbformat_minor": 5
}
